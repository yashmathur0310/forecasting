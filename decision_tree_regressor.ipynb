{
 "cells": [
  {
   "cell_type": "code",
   "execution_count": 1,
   "metadata": {},
   "outputs": [],
   "source": [
    "import pandas as pd \n",
    "import numpy as np \n",
    "import matplotlib.pyplot as plt \n",
    "plt.style.use('fivethirtyeight')"
   ]
  },
  {
   "cell_type": "code",
   "execution_count": 2,
   "metadata": {},
   "outputs": [],
   "source": [
    "dataset=pd.read_csv('datafinal.csv')"
   ]
  },
  {
   "cell_type": "code",
   "execution_count": 3,
   "metadata": {},
   "outputs": [
    {
     "data": {
      "text/html": [
       "<div>\n",
       "<style scoped>\n",
       "    .dataframe tbody tr th:only-of-type {\n",
       "        vertical-align: middle;\n",
       "    }\n",
       "\n",
       "    .dataframe tbody tr th {\n",
       "        vertical-align: top;\n",
       "    }\n",
       "\n",
       "    .dataframe thead th {\n",
       "        text-align: right;\n",
       "    }\n",
       "</style>\n",
       "<table border=\"1\" class=\"dataframe\">\n",
       "  <thead>\n",
       "    <tr style=\"text-align: right;\">\n",
       "      <th></th>\n",
       "      <th>Time</th>\n",
       "      <th>Generation_kW</th>\n",
       "      <th>FREQ</th>\n",
       "      <th>WP_AVG</th>\n",
       "      <th>TEMP_AVG</th>\n",
       "      <th>WS_AVG_10M</th>\n",
       "      <th>WS_AVG_50M</th>\n",
       "      <th>WS_AVG_80M</th>\n",
       "      <th>WS_AVG_100M</th>\n",
       "    </tr>\n",
       "  </thead>\n",
       "  <tbody>\n",
       "    <tr>\n",
       "      <th>0</th>\n",
       "      <td>01-01-2019 00:00</td>\n",
       "      <td>139950.47</td>\n",
       "      <td>50.1537</td>\n",
       "      <td>1004.871333</td>\n",
       "      <td>7.133333</td>\n",
       "      <td>4.154667</td>\n",
       "      <td>7.131333</td>\n",
       "      <td>8.928000</td>\n",
       "      <td>9.783000</td>\n",
       "    </tr>\n",
       "    <tr>\n",
       "      <th>1</th>\n",
       "      <td>01-01-2019 00:15</td>\n",
       "      <td>147199.00</td>\n",
       "      <td>49.9505</td>\n",
       "      <td>1004.693000</td>\n",
       "      <td>7.033333</td>\n",
       "      <td>3.750333</td>\n",
       "      <td>6.916667</td>\n",
       "      <td>8.825000</td>\n",
       "      <td>9.665333</td>\n",
       "    </tr>\n",
       "    <tr>\n",
       "      <th>2</th>\n",
       "      <td>01-01-2019 00:30</td>\n",
       "      <td>150222.60</td>\n",
       "      <td>49.9242</td>\n",
       "      <td>1005.084333</td>\n",
       "      <td>6.900000</td>\n",
       "      <td>4.037333</td>\n",
       "      <td>7.281333</td>\n",
       "      <td>9.008000</td>\n",
       "      <td>9.608667</td>\n",
       "    </tr>\n",
       "    <tr>\n",
       "      <th>3</th>\n",
       "      <td>01-01-2019 00:45</td>\n",
       "      <td>153285.87</td>\n",
       "      <td>50.0297</td>\n",
       "      <td>1004.924333</td>\n",
       "      <td>6.800000</td>\n",
       "      <td>4.755667</td>\n",
       "      <td>7.660000</td>\n",
       "      <td>9.580667</td>\n",
       "      <td>9.902333</td>\n",
       "    </tr>\n",
       "    <tr>\n",
       "      <th>4</th>\n",
       "      <td>01-01-2019 01:00</td>\n",
       "      <td>158134.67</td>\n",
       "      <td>50.0240</td>\n",
       "      <td>1005.084333</td>\n",
       "      <td>6.633333</td>\n",
       "      <td>4.974333</td>\n",
       "      <td>7.651667</td>\n",
       "      <td>10.064000</td>\n",
       "      <td>10.355667</td>\n",
       "    </tr>\n",
       "    <tr>\n",
       "      <th>...</th>\n",
       "      <td>...</td>\n",
       "      <td>...</td>\n",
       "      <td>...</td>\n",
       "      <td>...</td>\n",
       "      <td>...</td>\n",
       "      <td>...</td>\n",
       "      <td>...</td>\n",
       "      <td>...</td>\n",
       "      <td>...</td>\n",
       "    </tr>\n",
       "    <tr>\n",
       "      <th>35035</th>\n",
       "      <td>31-12-2019 22:45</td>\n",
       "      <td>165488.13</td>\n",
       "      <td>50.0015</td>\n",
       "      <td>999.200000</td>\n",
       "      <td>23.300000</td>\n",
       "      <td>4.264333</td>\n",
       "      <td>9.217000</td>\n",
       "      <td>10.481667</td>\n",
       "      <td>9.910667</td>\n",
       "    </tr>\n",
       "    <tr>\n",
       "      <th>35036</th>\n",
       "      <td>31-12-2019 23:00</td>\n",
       "      <td>163082.27</td>\n",
       "      <td>50.0344</td>\n",
       "      <td>999.164333</td>\n",
       "      <td>23.266667</td>\n",
       "      <td>4.548333</td>\n",
       "      <td>9.294000</td>\n",
       "      <td>10.707000</td>\n",
       "      <td>10.552333</td>\n",
       "    </tr>\n",
       "    <tr>\n",
       "      <th>35037</th>\n",
       "      <td>31-12-2019 23:15</td>\n",
       "      <td>160880.20</td>\n",
       "      <td>50.0203</td>\n",
       "      <td>1006.933333</td>\n",
       "      <td>23.600000</td>\n",
       "      <td>4.146000</td>\n",
       "      <td>9.225667</td>\n",
       "      <td>10.584000</td>\n",
       "      <td>10.312667</td>\n",
       "    </tr>\n",
       "    <tr>\n",
       "      <th>35038</th>\n",
       "      <td>31-12-2019 23:30</td>\n",
       "      <td>157473.93</td>\n",
       "      <td>50.0402</td>\n",
       "      <td>1006.880000</td>\n",
       "      <td>23.400000</td>\n",
       "      <td>3.547333</td>\n",
       "      <td>9.076667</td>\n",
       "      <td>10.519000</td>\n",
       "      <td>10.234333</td>\n",
       "    </tr>\n",
       "    <tr>\n",
       "      <th>35039</th>\n",
       "      <td>31-12-2019 23:45</td>\n",
       "      <td>155592.33</td>\n",
       "      <td>50.0230</td>\n",
       "      <td>1002.008667</td>\n",
       "      <td>23.066667</td>\n",
       "      <td>3.484333</td>\n",
       "      <td>8.190667</td>\n",
       "      <td>9.656333</td>\n",
       "      <td>8.814667</td>\n",
       "    </tr>\n",
       "  </tbody>\n",
       "</table>\n",
       "<p>35040 rows × 9 columns</p>\n",
       "</div>"
      ],
      "text/plain": [
       "                   Time  Generation_kW     FREQ       WP_AVG   TEMP_AVG  \\\n",
       "0      01-01-2019 00:00      139950.47  50.1537  1004.871333   7.133333   \n",
       "1      01-01-2019 00:15      147199.00  49.9505  1004.693000   7.033333   \n",
       "2      01-01-2019 00:30      150222.60  49.9242  1005.084333   6.900000   \n",
       "3      01-01-2019 00:45      153285.87  50.0297  1004.924333   6.800000   \n",
       "4      01-01-2019 01:00      158134.67  50.0240  1005.084333   6.633333   \n",
       "...                 ...            ...      ...          ...        ...   \n",
       "35035  31-12-2019 22:45      165488.13  50.0015   999.200000  23.300000   \n",
       "35036  31-12-2019 23:00      163082.27  50.0344   999.164333  23.266667   \n",
       "35037  31-12-2019 23:15      160880.20  50.0203  1006.933333  23.600000   \n",
       "35038  31-12-2019 23:30      157473.93  50.0402  1006.880000  23.400000   \n",
       "35039  31-12-2019 23:45      155592.33  50.0230  1002.008667  23.066667   \n",
       "\n",
       "       WS_AVG_10M  WS_AVG_50M  WS_AVG_80M  WS_AVG_100M  \n",
       "0        4.154667    7.131333    8.928000     9.783000  \n",
       "1        3.750333    6.916667    8.825000     9.665333  \n",
       "2        4.037333    7.281333    9.008000     9.608667  \n",
       "3        4.755667    7.660000    9.580667     9.902333  \n",
       "4        4.974333    7.651667   10.064000    10.355667  \n",
       "...           ...         ...         ...          ...  \n",
       "35035    4.264333    9.217000   10.481667     9.910667  \n",
       "35036    4.548333    9.294000   10.707000    10.552333  \n",
       "35037    4.146000    9.225667   10.584000    10.312667  \n",
       "35038    3.547333    9.076667   10.519000    10.234333  \n",
       "35039    3.484333    8.190667    9.656333     8.814667  \n",
       "\n",
       "[35040 rows x 9 columns]"
      ]
     },
     "execution_count": 3,
     "metadata": {},
     "output_type": "execute_result"
    }
   ],
   "source": [
    "dataset"
   ]
  },
  {
   "cell_type": "code",
   "execution_count": 4,
   "metadata": {},
   "outputs": [],
   "source": [
    "dataset['Time']=pd.to_datetime(dataset['Time'])"
   ]
  },
  {
   "cell_type": "code",
   "execution_count": null,
   "metadata": {},
   "outputs": [],
   "source": []
  },
  {
   "cell_type": "code",
   "execution_count": 5,
   "metadata": {},
   "outputs": [],
   "source": [
    "dataset['Day']=dataset['Time'].dt.day\n",
    "dataset['Month']=dataset['Time'].dt.month\n",
    "dataset['Hour']=dataset['Time'].dt.hour\n",
    "dataset['Minute']=dataset['Time'].dt.minute\n",
    "dataset=dataset.drop(['Time'],axis=1)"
   ]
  },
  {
   "cell_type": "code",
   "execution_count": 6,
   "metadata": {},
   "outputs": [
    {
     "data": {
      "text/html": [
       "<div>\n",
       "<style scoped>\n",
       "    .dataframe tbody tr th:only-of-type {\n",
       "        vertical-align: middle;\n",
       "    }\n",
       "\n",
       "    .dataframe tbody tr th {\n",
       "        vertical-align: top;\n",
       "    }\n",
       "\n",
       "    .dataframe thead th {\n",
       "        text-align: right;\n",
       "    }\n",
       "</style>\n",
       "<table border=\"1\" class=\"dataframe\">\n",
       "  <thead>\n",
       "    <tr style=\"text-align: right;\">\n",
       "      <th></th>\n",
       "      <th>Generation_kW</th>\n",
       "      <th>FREQ</th>\n",
       "      <th>WP_AVG</th>\n",
       "      <th>TEMP_AVG</th>\n",
       "      <th>WS_AVG_10M</th>\n",
       "      <th>WS_AVG_50M</th>\n",
       "      <th>WS_AVG_80M</th>\n",
       "      <th>WS_AVG_100M</th>\n",
       "      <th>Day</th>\n",
       "      <th>Month</th>\n",
       "      <th>Hour</th>\n",
       "      <th>Minute</th>\n",
       "    </tr>\n",
       "  </thead>\n",
       "  <tbody>\n",
       "    <tr>\n",
       "      <th>0</th>\n",
       "      <td>139950.47</td>\n",
       "      <td>50.1537</td>\n",
       "      <td>1004.871333</td>\n",
       "      <td>7.133333</td>\n",
       "      <td>4.154667</td>\n",
       "      <td>7.131333</td>\n",
       "      <td>8.928000</td>\n",
       "      <td>9.783000</td>\n",
       "      <td>1</td>\n",
       "      <td>1</td>\n",
       "      <td>0</td>\n",
       "      <td>0</td>\n",
       "    </tr>\n",
       "    <tr>\n",
       "      <th>1</th>\n",
       "      <td>147199.00</td>\n",
       "      <td>49.9505</td>\n",
       "      <td>1004.693000</td>\n",
       "      <td>7.033333</td>\n",
       "      <td>3.750333</td>\n",
       "      <td>6.916667</td>\n",
       "      <td>8.825000</td>\n",
       "      <td>9.665333</td>\n",
       "      <td>1</td>\n",
       "      <td>1</td>\n",
       "      <td>0</td>\n",
       "      <td>15</td>\n",
       "    </tr>\n",
       "    <tr>\n",
       "      <th>2</th>\n",
       "      <td>150222.60</td>\n",
       "      <td>49.9242</td>\n",
       "      <td>1005.084333</td>\n",
       "      <td>6.900000</td>\n",
       "      <td>4.037333</td>\n",
       "      <td>7.281333</td>\n",
       "      <td>9.008000</td>\n",
       "      <td>9.608667</td>\n",
       "      <td>1</td>\n",
       "      <td>1</td>\n",
       "      <td>0</td>\n",
       "      <td>30</td>\n",
       "    </tr>\n",
       "    <tr>\n",
       "      <th>3</th>\n",
       "      <td>153285.87</td>\n",
       "      <td>50.0297</td>\n",
       "      <td>1004.924333</td>\n",
       "      <td>6.800000</td>\n",
       "      <td>4.755667</td>\n",
       "      <td>7.660000</td>\n",
       "      <td>9.580667</td>\n",
       "      <td>9.902333</td>\n",
       "      <td>1</td>\n",
       "      <td>1</td>\n",
       "      <td>0</td>\n",
       "      <td>45</td>\n",
       "    </tr>\n",
       "    <tr>\n",
       "      <th>4</th>\n",
       "      <td>158134.67</td>\n",
       "      <td>50.0240</td>\n",
       "      <td>1005.084333</td>\n",
       "      <td>6.633333</td>\n",
       "      <td>4.974333</td>\n",
       "      <td>7.651667</td>\n",
       "      <td>10.064000</td>\n",
       "      <td>10.355667</td>\n",
       "      <td>1</td>\n",
       "      <td>1</td>\n",
       "      <td>1</td>\n",
       "      <td>0</td>\n",
       "    </tr>\n",
       "    <tr>\n",
       "      <th>...</th>\n",
       "      <td>...</td>\n",
       "      <td>...</td>\n",
       "      <td>...</td>\n",
       "      <td>...</td>\n",
       "      <td>...</td>\n",
       "      <td>...</td>\n",
       "      <td>...</td>\n",
       "      <td>...</td>\n",
       "      <td>...</td>\n",
       "      <td>...</td>\n",
       "      <td>...</td>\n",
       "      <td>...</td>\n",
       "    </tr>\n",
       "    <tr>\n",
       "      <th>35035</th>\n",
       "      <td>165488.13</td>\n",
       "      <td>50.0015</td>\n",
       "      <td>999.200000</td>\n",
       "      <td>23.300000</td>\n",
       "      <td>4.264333</td>\n",
       "      <td>9.217000</td>\n",
       "      <td>10.481667</td>\n",
       "      <td>9.910667</td>\n",
       "      <td>31</td>\n",
       "      <td>12</td>\n",
       "      <td>22</td>\n",
       "      <td>45</td>\n",
       "    </tr>\n",
       "    <tr>\n",
       "      <th>35036</th>\n",
       "      <td>163082.27</td>\n",
       "      <td>50.0344</td>\n",
       "      <td>999.164333</td>\n",
       "      <td>23.266667</td>\n",
       "      <td>4.548333</td>\n",
       "      <td>9.294000</td>\n",
       "      <td>10.707000</td>\n",
       "      <td>10.552333</td>\n",
       "      <td>31</td>\n",
       "      <td>12</td>\n",
       "      <td>23</td>\n",
       "      <td>0</td>\n",
       "    </tr>\n",
       "    <tr>\n",
       "      <th>35037</th>\n",
       "      <td>160880.20</td>\n",
       "      <td>50.0203</td>\n",
       "      <td>1006.933333</td>\n",
       "      <td>23.600000</td>\n",
       "      <td>4.146000</td>\n",
       "      <td>9.225667</td>\n",
       "      <td>10.584000</td>\n",
       "      <td>10.312667</td>\n",
       "      <td>31</td>\n",
       "      <td>12</td>\n",
       "      <td>23</td>\n",
       "      <td>15</td>\n",
       "    </tr>\n",
       "    <tr>\n",
       "      <th>35038</th>\n",
       "      <td>157473.93</td>\n",
       "      <td>50.0402</td>\n",
       "      <td>1006.880000</td>\n",
       "      <td>23.400000</td>\n",
       "      <td>3.547333</td>\n",
       "      <td>9.076667</td>\n",
       "      <td>10.519000</td>\n",
       "      <td>10.234333</td>\n",
       "      <td>31</td>\n",
       "      <td>12</td>\n",
       "      <td>23</td>\n",
       "      <td>30</td>\n",
       "    </tr>\n",
       "    <tr>\n",
       "      <th>35039</th>\n",
       "      <td>155592.33</td>\n",
       "      <td>50.0230</td>\n",
       "      <td>1002.008667</td>\n",
       "      <td>23.066667</td>\n",
       "      <td>3.484333</td>\n",
       "      <td>8.190667</td>\n",
       "      <td>9.656333</td>\n",
       "      <td>8.814667</td>\n",
       "      <td>31</td>\n",
       "      <td>12</td>\n",
       "      <td>23</td>\n",
       "      <td>45</td>\n",
       "    </tr>\n",
       "  </tbody>\n",
       "</table>\n",
       "<p>35040 rows × 12 columns</p>\n",
       "</div>"
      ],
      "text/plain": [
       "       Generation_kW     FREQ       WP_AVG   TEMP_AVG  WS_AVG_10M  WS_AVG_50M  \\\n",
       "0          139950.47  50.1537  1004.871333   7.133333    4.154667    7.131333   \n",
       "1          147199.00  49.9505  1004.693000   7.033333    3.750333    6.916667   \n",
       "2          150222.60  49.9242  1005.084333   6.900000    4.037333    7.281333   \n",
       "3          153285.87  50.0297  1004.924333   6.800000    4.755667    7.660000   \n",
       "4          158134.67  50.0240  1005.084333   6.633333    4.974333    7.651667   \n",
       "...              ...      ...          ...        ...         ...         ...   \n",
       "35035      165488.13  50.0015   999.200000  23.300000    4.264333    9.217000   \n",
       "35036      163082.27  50.0344   999.164333  23.266667    4.548333    9.294000   \n",
       "35037      160880.20  50.0203  1006.933333  23.600000    4.146000    9.225667   \n",
       "35038      157473.93  50.0402  1006.880000  23.400000    3.547333    9.076667   \n",
       "35039      155592.33  50.0230  1002.008667  23.066667    3.484333    8.190667   \n",
       "\n",
       "       WS_AVG_80M  WS_AVG_100M  Day  Month  Hour  Minute  \n",
       "0        8.928000     9.783000    1      1     0       0  \n",
       "1        8.825000     9.665333    1      1     0      15  \n",
       "2        9.008000     9.608667    1      1     0      30  \n",
       "3        9.580667     9.902333    1      1     0      45  \n",
       "4       10.064000    10.355667    1      1     1       0  \n",
       "...           ...          ...  ...    ...   ...     ...  \n",
       "35035   10.481667     9.910667   31     12    22      45  \n",
       "35036   10.707000    10.552333   31     12    23       0  \n",
       "35037   10.584000    10.312667   31     12    23      15  \n",
       "35038   10.519000    10.234333   31     12    23      30  \n",
       "35039    9.656333     8.814667   31     12    23      45  \n",
       "\n",
       "[35040 rows x 12 columns]"
      ]
     },
     "execution_count": 6,
     "metadata": {},
     "output_type": "execute_result"
    }
   ],
   "source": [
    "dataset"
   ]
  },
  {
   "cell_type": "code",
   "execution_count": 7,
   "metadata": {},
   "outputs": [],
   "source": [
    "## seperating the dataset of 31st dec,2019 \n",
    "df=dataset.iloc[:34945,]\n",
    "df_prediction=dataset.iloc[34945:,]"
   ]
  },
  {
   "cell_type": "code",
   "execution_count": 8,
   "metadata": {},
   "outputs": [
    {
     "name": "stdout",
     "output_type": "stream",
     "text": [
      "(34945, 12)\n"
     ]
    }
   ],
   "source": [
    "print(df.shape)"
   ]
  },
  {
   "cell_type": "code",
   "execution_count": 9,
   "metadata": {},
   "outputs": [
    {
     "name": "stdout",
     "output_type": "stream",
     "text": [
      "(95, 12)\n"
     ]
    }
   ],
   "source": [
    "print(df_prediction.shape)"
   ]
  },
  {
   "cell_type": "code",
   "execution_count": 10,
   "metadata": {},
   "outputs": [
    {
     "data": {
      "text/html": [
       "<div>\n",
       "<style scoped>\n",
       "    .dataframe tbody tr th:only-of-type {\n",
       "        vertical-align: middle;\n",
       "    }\n",
       "\n",
       "    .dataframe tbody tr th {\n",
       "        vertical-align: top;\n",
       "    }\n",
       "\n",
       "    .dataframe thead th {\n",
       "        text-align: right;\n",
       "    }\n",
       "</style>\n",
       "<table border=\"1\" class=\"dataframe\">\n",
       "  <thead>\n",
       "    <tr style=\"text-align: right;\">\n",
       "      <th></th>\n",
       "      <th>Generation_kW</th>\n",
       "      <th>FREQ</th>\n",
       "      <th>WP_AVG</th>\n",
       "      <th>TEMP_AVG</th>\n",
       "      <th>WS_AVG_10M</th>\n",
       "      <th>WS_AVG_50M</th>\n",
       "      <th>WS_AVG_80M</th>\n",
       "      <th>WS_AVG_100M</th>\n",
       "      <th>Day</th>\n",
       "      <th>Month</th>\n",
       "      <th>Hour</th>\n",
       "      <th>Minute</th>\n",
       "    </tr>\n",
       "  </thead>\n",
       "  <tbody>\n",
       "    <tr>\n",
       "      <th>34945</th>\n",
       "      <td>173463.80</td>\n",
       "      <td>50.0627</td>\n",
       "      <td>1001.298000</td>\n",
       "      <td>23.488892</td>\n",
       "      <td>3.694000</td>\n",
       "      <td>7.510333</td>\n",
       "      <td>9.517000</td>\n",
       "      <td>10.139333</td>\n",
       "      <td>31</td>\n",
       "      <td>12</td>\n",
       "      <td>0</td>\n",
       "      <td>15</td>\n",
       "    </tr>\n",
       "    <tr>\n",
       "      <th>34946</th>\n",
       "      <td>173629.87</td>\n",
       "      <td>50.0243</td>\n",
       "      <td>1001.653667</td>\n",
       "      <td>23.486794</td>\n",
       "      <td>3.328667</td>\n",
       "      <td>7.114667</td>\n",
       "      <td>9.002333</td>\n",
       "      <td>9.962000</td>\n",
       "      <td>31</td>\n",
       "      <td>12</td>\n",
       "      <td>0</td>\n",
       "      <td>30</td>\n",
       "    </tr>\n",
       "    <tr>\n",
       "      <th>34947</th>\n",
       "      <td>173842.07</td>\n",
       "      <td>49.9890</td>\n",
       "      <td>1001.493000</td>\n",
       "      <td>23.484695</td>\n",
       "      <td>3.897667</td>\n",
       "      <td>7.990000</td>\n",
       "      <td>9.222000</td>\n",
       "      <td>10.044333</td>\n",
       "      <td>31</td>\n",
       "      <td>12</td>\n",
       "      <td>0</td>\n",
       "      <td>45</td>\n",
       "    </tr>\n",
       "    <tr>\n",
       "      <th>34948</th>\n",
       "      <td>175363.40</td>\n",
       "      <td>50.0636</td>\n",
       "      <td>1001.813333</td>\n",
       "      <td>23.482596</td>\n",
       "      <td>3.855667</td>\n",
       "      <td>8.786000</td>\n",
       "      <td>9.760667</td>\n",
       "      <td>10.533000</td>\n",
       "      <td>31</td>\n",
       "      <td>12</td>\n",
       "      <td>1</td>\n",
       "      <td>0</td>\n",
       "    </tr>\n",
       "    <tr>\n",
       "      <th>34949</th>\n",
       "      <td>180025.27</td>\n",
       "      <td>49.9835</td>\n",
       "      <td>1001.618000</td>\n",
       "      <td>23.480497</td>\n",
       "      <td>4.285667</td>\n",
       "      <td>9.410667</td>\n",
       "      <td>10.161667</td>\n",
       "      <td>10.975667</td>\n",
       "      <td>31</td>\n",
       "      <td>12</td>\n",
       "      <td>1</td>\n",
       "      <td>15</td>\n",
       "    </tr>\n",
       "    <tr>\n",
       "      <th>...</th>\n",
       "      <td>...</td>\n",
       "      <td>...</td>\n",
       "      <td>...</td>\n",
       "      <td>...</td>\n",
       "      <td>...</td>\n",
       "      <td>...</td>\n",
       "      <td>...</td>\n",
       "      <td>...</td>\n",
       "      <td>...</td>\n",
       "      <td>...</td>\n",
       "      <td>...</td>\n",
       "      <td>...</td>\n",
       "    </tr>\n",
       "    <tr>\n",
       "      <th>35035</th>\n",
       "      <td>165488.13</td>\n",
       "      <td>50.0015</td>\n",
       "      <td>999.200000</td>\n",
       "      <td>23.300000</td>\n",
       "      <td>4.264333</td>\n",
       "      <td>9.217000</td>\n",
       "      <td>10.481667</td>\n",
       "      <td>9.910667</td>\n",
       "      <td>31</td>\n",
       "      <td>12</td>\n",
       "      <td>22</td>\n",
       "      <td>45</td>\n",
       "    </tr>\n",
       "    <tr>\n",
       "      <th>35036</th>\n",
       "      <td>163082.27</td>\n",
       "      <td>50.0344</td>\n",
       "      <td>999.164333</td>\n",
       "      <td>23.266667</td>\n",
       "      <td>4.548333</td>\n",
       "      <td>9.294000</td>\n",
       "      <td>10.707000</td>\n",
       "      <td>10.552333</td>\n",
       "      <td>31</td>\n",
       "      <td>12</td>\n",
       "      <td>23</td>\n",
       "      <td>0</td>\n",
       "    </tr>\n",
       "    <tr>\n",
       "      <th>35037</th>\n",
       "      <td>160880.20</td>\n",
       "      <td>50.0203</td>\n",
       "      <td>1006.933333</td>\n",
       "      <td>23.600000</td>\n",
       "      <td>4.146000</td>\n",
       "      <td>9.225667</td>\n",
       "      <td>10.584000</td>\n",
       "      <td>10.312667</td>\n",
       "      <td>31</td>\n",
       "      <td>12</td>\n",
       "      <td>23</td>\n",
       "      <td>15</td>\n",
       "    </tr>\n",
       "    <tr>\n",
       "      <th>35038</th>\n",
       "      <td>157473.93</td>\n",
       "      <td>50.0402</td>\n",
       "      <td>1006.880000</td>\n",
       "      <td>23.400000</td>\n",
       "      <td>3.547333</td>\n",
       "      <td>9.076667</td>\n",
       "      <td>10.519000</td>\n",
       "      <td>10.234333</td>\n",
       "      <td>31</td>\n",
       "      <td>12</td>\n",
       "      <td>23</td>\n",
       "      <td>30</td>\n",
       "    </tr>\n",
       "    <tr>\n",
       "      <th>35039</th>\n",
       "      <td>155592.33</td>\n",
       "      <td>50.0230</td>\n",
       "      <td>1002.008667</td>\n",
       "      <td>23.066667</td>\n",
       "      <td>3.484333</td>\n",
       "      <td>8.190667</td>\n",
       "      <td>9.656333</td>\n",
       "      <td>8.814667</td>\n",
       "      <td>31</td>\n",
       "      <td>12</td>\n",
       "      <td>23</td>\n",
       "      <td>45</td>\n",
       "    </tr>\n",
       "  </tbody>\n",
       "</table>\n",
       "<p>95 rows × 12 columns</p>\n",
       "</div>"
      ],
      "text/plain": [
       "       Generation_kW     FREQ       WP_AVG   TEMP_AVG  WS_AVG_10M  WS_AVG_50M  \\\n",
       "34945      173463.80  50.0627  1001.298000  23.488892    3.694000    7.510333   \n",
       "34946      173629.87  50.0243  1001.653667  23.486794    3.328667    7.114667   \n",
       "34947      173842.07  49.9890  1001.493000  23.484695    3.897667    7.990000   \n",
       "34948      175363.40  50.0636  1001.813333  23.482596    3.855667    8.786000   \n",
       "34949      180025.27  49.9835  1001.618000  23.480497    4.285667    9.410667   \n",
       "...              ...      ...          ...        ...         ...         ...   \n",
       "35035      165488.13  50.0015   999.200000  23.300000    4.264333    9.217000   \n",
       "35036      163082.27  50.0344   999.164333  23.266667    4.548333    9.294000   \n",
       "35037      160880.20  50.0203  1006.933333  23.600000    4.146000    9.225667   \n",
       "35038      157473.93  50.0402  1006.880000  23.400000    3.547333    9.076667   \n",
       "35039      155592.33  50.0230  1002.008667  23.066667    3.484333    8.190667   \n",
       "\n",
       "       WS_AVG_80M  WS_AVG_100M  Day  Month  Hour  Minute  \n",
       "34945    9.517000    10.139333   31     12     0      15  \n",
       "34946    9.002333     9.962000   31     12     0      30  \n",
       "34947    9.222000    10.044333   31     12     0      45  \n",
       "34948    9.760667    10.533000   31     12     1       0  \n",
       "34949   10.161667    10.975667   31     12     1      15  \n",
       "...           ...          ...  ...    ...   ...     ...  \n",
       "35035   10.481667     9.910667   31     12    22      45  \n",
       "35036   10.707000    10.552333   31     12    23       0  \n",
       "35037   10.584000    10.312667   31     12    23      15  \n",
       "35038   10.519000    10.234333   31     12    23      30  \n",
       "35039    9.656333     8.814667   31     12    23      45  \n",
       "\n",
       "[95 rows x 12 columns]"
      ]
     },
     "execution_count": 10,
     "metadata": {},
     "output_type": "execute_result"
    }
   ],
   "source": [
    "df_prediction"
   ]
  },
  {
   "cell_type": "code",
   "execution_count": 11,
   "metadata": {},
   "outputs": [],
   "source": [
    "## using the dataset till 30th dec for training and testing\n",
    "df_train=df.iloc[: int(len(df)*0.9)]\n",
    "df_test=df.iloc[int(len(df)*0.9):]"
   ]
  },
  {
   "cell_type": "code",
   "execution_count": 12,
   "metadata": {},
   "outputs": [
    {
     "name": "stdout",
     "output_type": "stream",
     "text": [
      "(31450, 12)\n",
      "(3495, 12)\n"
     ]
    }
   ],
   "source": [
    "print(df_train.shape)\n",
    "print(df_test.shape)"
   ]
  },
  {
   "cell_type": "code",
   "execution_count": 13,
   "metadata": {},
   "outputs": [],
   "source": [
    "x=df_train.drop(['WP_AVG'],axis=1).values\n",
    "y=df_train['WP_AVG'].values"
   ]
  },
  {
   "cell_type": "code",
   "execution_count": null,
   "metadata": {},
   "outputs": [],
   "source": []
  },
  {
   "cell_type": "code",
   "execution_count": 14,
   "metadata": {},
   "outputs": [
    {
     "data": {
      "text/plain": [
       "DecisionTreeRegressor()"
      ]
     },
     "execution_count": 14,
     "metadata": {},
     "output_type": "execute_result"
    }
   ],
   "source": [
    "from sklearn.tree import DecisionTreeRegressor\n",
    "dtr=DecisionTreeRegressor()\n",
    "dtr.fit(x,y)"
   ]
  },
  {
   "cell_type": "code",
   "execution_count": 15,
   "metadata": {},
   "outputs": [],
   "source": [
    "## using the test set to calculate mae,mse,rmse\n",
    "pred=df_test.drop(['WP_AVG'],axis=1).values"
   ]
  },
  {
   "cell_type": "code",
   "execution_count": 16,
   "metadata": {},
   "outputs": [],
   "source": [
    "pred=dtr.predict(pred)"
   ]
  },
  {
   "cell_type": "code",
   "execution_count": 17,
   "metadata": {},
   "outputs": [
    {
     "name": "stderr",
     "output_type": "stream",
     "text": [
      "<ipython-input-17-24bc7c8dacb1>:1: SettingWithCopyWarning: \n",
      "A value is trying to be set on a copy of a slice from a DataFrame.\n",
      "Try using .loc[row_indexer,col_indexer] = value instead\n",
      "\n",
      "See the caveats in the documentation: https://pandas.pydata.org/pandas-docs/stable/user_guide/indexing.html#returning-a-view-versus-a-copy\n",
      "  df_test['pred']=pred\n"
     ]
    }
   ],
   "source": [
    "df_test['pred']=pred"
   ]
  },
  {
   "cell_type": "code",
   "execution_count": 18,
   "metadata": {},
   "outputs": [
    {
     "data": {
      "text/plain": [
       "<AxesSubplot:>"
      ]
     },
     "execution_count": 18,
     "metadata": {},
     "output_type": "execute_result"
    },
    {
     "data": {
      "image/png": "[encoded data removed]",
      "text/plain": [
       "<Figure size 864x360 with 1 Axes>"
      ]
     },
     "metadata": {},
     "output_type": "display_data"
    }
   ],
   "source": [
    "df_test[['WP_AVG','pred']].plot(figsize=(12,5))"
   ]
  },
  {
   "cell_type": "code",
   "execution_count": 19,
   "metadata": {},
   "outputs": [],
   "source": [
    "from sklearn.metrics import *"
   ]
  },
  {
   "cell_type": "code",
   "execution_count": 20,
   "metadata": {},
   "outputs": [
    {
     "name": "stdout",
     "output_type": "stream",
     "text": [
      "10.058707863175957\n",
      "233.90663766473924\n"
     ]
    }
   ],
   "source": [
    "print(mean_absolute_error(df_test['WP_AVG'],df_test['pred']))\n",
    "print(mean_squared_error(df_test['WP_AVG'],df_test['pred']))"
   ]
  },
  {
   "cell_type": "code",
   "execution_count": 21,
   "metadata": {},
   "outputs": [],
   "source": [
    "## now predicting the value of 31 st dec and plotting on graph\n",
    "pred=df_prediction.drop(['WP_AVG'],axis=1).values"
   ]
  },
  {
   "cell_type": "code",
   "execution_count": 22,
   "metadata": {},
   "outputs": [],
   "source": [
    "pred=dtr.predict(pred)"
   ]
  },
  {
   "cell_type": "code",
   "execution_count": 23,
   "metadata": {},
   "outputs": [
    {
     "name": "stderr",
     "output_type": "stream",
     "text": [
      "<ipython-input-23-d79a8189fd26>:1: SettingWithCopyWarning: \n",
      "A value is trying to be set on a copy of a slice from a DataFrame.\n",
      "Try using .loc[row_indexer,col_indexer] = value instead\n",
      "\n",
      "See the caveats in the documentation: https://pandas.pydata.org/pandas-docs/stable/user_guide/indexing.html#returning-a-view-versus-a-copy\n",
      "  df_prediction['pred']=pred\n"
     ]
    }
   ],
   "source": [
    "df_prediction['pred']=pred"
   ]
  },
  {
   "cell_type": "code",
   "execution_count": 24,
   "metadata": {},
   "outputs": [
    {
     "data": {
      "text/plain": [
       "<AxesSubplot:>"
      ]
     },
     "execution_count": 24,
     "metadata": {},
     "output_type": "execute_result"
    },
    {
     "data": {
      "image/png": "[encoded data removed]",
      "text/plain": [
       "<Figure size 864x360 with 1 Axes>"
      ]
     },
     "metadata": {},
     "output_type": "display_data"
    }
   ],
   "source": [
    "df_prediction[['WP_AVG','pred']].plot(figsize=(12,5))"
   ]
  },
  {
   "cell_type": "code",
   "execution_count": null,
   "metadata": {},
   "outputs": [],
   "source": []
  },
  {
   "cell_type": "code",
   "execution_count": null,
   "metadata": {},
   "outputs": [],
   "source": []
  },
  {
   "cell_type": "code",
   "execution_count": null,
   "metadata": {},
   "outputs": [],
   "source": []
  }
 ],
 "metadata": {
  "kernelspec": {
   "display_name": "Python 3",
   "language": "python",
   "name": "python3"
  },
  "language_info": {
   "codemirror_mode": {
    "name": "ipython",
    "version": 3
   },
   "file_extension": ".py",
   "mimetype": "text/x-python",
   "name": "python",
   "nbconvert_exporter": "python",
   "pygments_lexer": "ipython3",
   "version": "3.8.5"
  }
 },
 "nbformat": 4,
 "nbformat_minor": 4
}
